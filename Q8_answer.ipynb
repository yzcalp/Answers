{
 "cells": [
  {
   "cell_type": "code",
   "execution_count": 1,
   "id": "a512c1eb-3d7f-4b9c-976e-ca975acee3d1",
   "metadata": {},
   "outputs": [],
   "source": [
    "\n",
    "import pandas as pd\n",
    "import matplotlib.pyplot as plt\n",
    "import numpy as np"
   ]
  },
  {
   "cell_type": "code",
   "execution_count": 2,
   "id": "8abf888a-f9c8-4316-a8e6-23d0a21d1bdb",
   "metadata": {},
   "outputs": [],
   "source": [
    "url = '<url>https://alp_answering-questions.online.com/</url>'"
   ]
  },
  {
   "cell_type": "code",
   "execution_count": 3,
   "id": "43b3bd2a-019e-4937-90fc-b6c99afc26a5",
   "metadata": {},
   "outputs": [],
   "source": [
    "# we can write every condition that we dont want \n",
    "def ExtractLinks(url):\n",
    "    url = url.replace(\"<url>\",\"\")\n",
    "    url = url.replace(\"/</url>\",\"\")\n",
    "    url = url.replace(\"https://\",\"\")\n",
    "    url = url.replace(\"http://\",\"\")\n",
    "    return url;\n"
   ]
  },
  {
   "cell_type": "code",
   "execution_count": 4,
   "id": "7a80f4e6-e14d-45bd-a17a-1df0d066687c",
   "metadata": {},
   "outputs": [],
   "source": [
    "new_url = ExtractLinks(url)"
   ]
  },
  {
   "cell_type": "code",
   "execution_count": 5,
   "id": "3f5574f1-9940-49c5-8bf5-a6ac186087b3",
   "metadata": {},
   "outputs": [
    {
     "data": {
      "text/plain": [
       "'alp_answering-questions.online.com'"
      ]
     },
     "execution_count": 5,
     "metadata": {},
     "output_type": "execute_result"
    }
   ],
   "source": [
    "new_url"
   ]
  },
  {
   "cell_type": "code",
   "execution_count": null,
   "id": "48126033-c4d1-437a-9792-1d4b2ba2554e",
   "metadata": {},
   "outputs": [],
   "source": []
  }
 ],
 "metadata": {
  "kernelspec": {
   "display_name": "Python 3",
   "language": "python",
   "name": "python3"
  },
  "language_info": {
   "codemirror_mode": {
    "name": "ipython",
    "version": 3
   },
   "file_extension": ".py",
   "mimetype": "text/x-python",
   "name": "python",
   "nbconvert_exporter": "python",
   "pygments_lexer": "ipython3",
   "version": "3.8.8"
  }
 },
 "nbformat": 4,
 "nbformat_minor": 5
}
