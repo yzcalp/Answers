{
 "cells": [
  {
   "cell_type": "code",
   "execution_count": 1,
   "id": "64b63f8f-582d-448d-8ced-308073cc0831",
   "metadata": {},
   "outputs": [],
   "source": [
    "\n",
    "import pandas as pd\n",
    "import matplotlib.pyplot as plt\n",
    "import numpy as np\n",
    "\n",
    "df = pd.read_csv(\"country_vaccination_stats.csv\",sep = \",\",header = 0)\n",
    "df['daily_vaccinations'] = df['daily_vaccinations'].fillna(0)\n",
    "df = df.set_index('country')\n",
    "country_names = sorted(list(set(df.index)))\n",
    "country_medians = dict()"
   ]
  },
  {
   "cell_type": "code",
   "execution_count": 2,
   "id": "695a928d-ba84-4a33-ba81-b5b9b4299d71",
   "metadata": {},
   "outputs": [],
   "source": [
    "# find median for each country and add to a dictionary \n",
    "for country in country_names:\n",
    "    country_medians[country] = np.median(df[df.index == country]['daily_vaccinations'])"
   ]
  },
  {
   "cell_type": "code",
   "execution_count": 3,
   "id": "6b194635-90e2-4563-8dd3-f6b66da1559e",
   "metadata": {},
   "outputs": [
    {
     "data": {
      "text/plain": [
       "[('United States', 378253.0), ('China', 276786.0), ('India', 173922.0)]"
      ]
     },
     "execution_count": 3,
     "metadata": {},
     "output_type": "execute_result"
    }
   ],
   "source": [
    "# sort by value and show only top 3 countries with highest median value \n",
    "Sorted_Medians =sorted(country_medians.items(), key=lambda x: x[1],reverse=True)\n",
    "top3medians = list(Sorted_Medians)[:3]\n",
    "top3medians"
   ]
  }
 ],
 "metadata": {
  "kernelspec": {
   "display_name": "Python 3",
   "language": "python",
   "name": "python3"
  },
  "language_info": {
   "codemirror_mode": {
    "name": "ipython",
    "version": 3
   },
   "file_extension": ".py",
   "mimetype": "text/x-python",
   "name": "python",
   "nbconvert_exporter": "python",
   "pygments_lexer": "ipython3",
   "version": "3.8.8"
  }
 },
 "nbformat": 4,
 "nbformat_minor": 5
}
